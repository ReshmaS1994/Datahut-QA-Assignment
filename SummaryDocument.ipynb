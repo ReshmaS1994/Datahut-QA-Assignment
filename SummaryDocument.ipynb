{
 "cells": [
  {
   "cell_type": "code",
   "execution_count": null,
   "metadata": {},
   "outputs": [],
   "source": []
  },
  {
   "cell_type": "markdown",
   "metadata": {},
   "source": [
    "# Step 1: Load the Data\n",
    "- I loaded the dataset from the file `messy_data.csv` into a pandas DataFrame. The initial view of the data shows a mix of date formats, missing values, and potentially incorrect salary values.\n",
    "\n",
    "# Step 2: Handle Missing Values in the 'Join Date' Column\n",
    "- The 'Join Date' column had missing values, and the date format was inconsistent (both `-` and `/` used).\n",
    "- I used `pd.to_datetime()` to convert the dates to a standard format and `errors='coerce'` to convert invalid entries to `NaT`.\n",
    "- Missing values were filled with `'Unknown'` to ensure that all rows have a valid entry.\n",
    "# Step 3: Convert Salary Column to Fixed Range\n",
    "- The 'Salary' column was continuous and needed to be converted into discrete ranges for easier analysis.\n",
    "- I defined the following salary ranges:\n",
    "    - 0 to 50k\n",
    "    - 51k to 100k\n",
    "    - 101k to 150k\n",
    "- I used `pd.cut()` to categorize the salary values into these ranges and added a new column `Salary Range` to the DataFrame.\n",
    "\n",
    "# step  4: Handling Missing Values in the 'Name' Field\n",
    "   - The **'Name'** field contained missing entries.\n",
    "   - I replaced the missing values with a placeholder value: `'Unknown'`.\n",
    "   - This ensures that all records have a valid name.\n",
    "\n",
    "# 5 Handling Missing Values in the 'Date' Field\n",
    "   - The **'Date'** field had missing or invalid date values.\n",
    "   - I converted all valid dates to a standard format using `pd.to_datetime()`. \n",
    "   - For invalid or missing dates, I filled the `NaT` (Not a Time) entries with `'Unknown'` as a placeholder.\n",
    "   - This ensures consistency in the date field.\n",
    "\n",
    "# 6 Handling Missing Values in the 'Salary' Field\n",
    "   - The **'Salary'** field had missing salary values.\n",
    "   - I replaced the missing salary values with a placeholder, such as `0` or the mean salary, depending on the context.\n",
    "   - The placeholder helps keep the dataset intact for further analysis without removing records.\n",
    "\n",
    "\n",
    "# step 7 Email Format Correction\n",
    "\n",
    "# Problem:\n",
    "The email addresses in the dataset had inconsistent formatting. Some emails were missing the domain (e.g., `user@domain` instead of `user@domain.com`), and others had extra spaces, typos, or incorrect characters.\n",
    "\n",
    "## Steps Taken:\n",
    "1. **Remove Leading and Trailing Spaces**: I used the `strip()` function to remove any spaces before or after the email addresses.\n",
    "2. **Validate Email Format**: I used a regular expression (regex) to check for proper email format. The correct format should include:\n",
    "    - A string before the `@` symbol (e.g., `user`)\n",
    "    - The `@` symbol\n",
    "    - A valid domain name (e.g., `domain.com`)\n",
    "3. **Fix Invalid Emails**: Invalid emails were replaced with `invalid_email@domain.com` as a placeholder.\n",
    "\n",
    "# step 8: **Standardize Department Name**: \n",
    "   - I corrected all department names that start with \"Sales\" and removed any extra characters, leaving only \"Sales\" as the department name.\n",
    "   - This was done using string manipulation techniques to match department names that begin with \"Sales\" and ensure they are consistently labeled as `Sales`.\n",
    "\n",
    "2. **Handle Other Departments**: \n",
    "   - For departments that do not start with \"Sales,\" no changes were made. These department names were left intact.\n",
    "   \n",
    "3. **Ensure Consistency**:\n",
    "   - The dataset now has a consistent department name format for all records that start with \"Sales.\",\"Engineering\",\"support\",'Markting'.\n",
    "\n",
    "# Step 7 : Save the Cleaned Data\n",
    "- Once the cleaning steps were completed, I saved the cleaned data into a new file called `cleaned_dataset.csv`.\n",
    "- This file can now be used for further analysis or reporting.\n"
   ]
  }
 ],
 "metadata": {
  "kernelspec": {
   "display_name": "Python 3",
   "language": "python",
   "name": "python3"
  },
  "language_info": {
   "name": "python",
   "version": "3.13.0"
  }
 },
 "nbformat": 4,
 "nbformat_minor": 2
}
